{
  "nbformat": 4,
  "nbformat_minor": 0,
  "metadata": {
    "colab": {
      "provenance": [],
      "authorship_tag": "ABX9TyOBQm2x/aaF8Or9+Xa8rNN1",
      "include_colab_link": true
    },
    "kernelspec": {
      "name": "python3",
      "display_name": "Python 3"
    },
    "language_info": {
      "name": "python"
    }
  },
  "cells": [
    {
      "cell_type": "markdown",
      "metadata": {
        "id": "view-in-github",
        "colab_type": "text"
      },
      "source": [
        "<a href=\"https://colab.research.google.com/github/richbello/proyectos_personales/blob/main/Modelo_de_Regresi%C3%B3n_Log%C3%ADstica.ipynb\" target=\"_parent\"><img src=\"https://colab.research.google.com/assets/colab-badge.svg\" alt=\"Open In Colab\"/></a>"
      ]
    },
    {
      "cell_type": "code",
      "source": [
        "#1. Aumentar el Número de Iteraciones\n",
        "model = LogisticRegression(max_iter=200)  # Aumenta el número de iteraciones\n"
      ],
      "metadata": {
        "id": "u_BlN76Csih4"
      },
      "execution_count": 3,
      "outputs": []
    },
    {
      "cell_type": "code",
      "source": [
        "#2. Escalar los Datos\n",
        "import numpy as np\n",
        "from sklearn.model_selection import train_test_split\n",
        "from sklearn.linear_model import LogisticRegression\n",
        "from sklearn.preprocessing import StandardScaler\n",
        "\n",
        "# Datos históricos\n",
        "results_user = [5142, 2836, 3070, 318, 504, 3763, 8748, 2704, 2519, 1211, 6010, 8160, 987, 9995, 8032, 385, 8393, 8993, 2776, 6011, 3012, 2415, 7860, 2859, 4939, 6980, 335, 4134, 494, 7475, 1086, 4310]\n",
        "\n",
        "# Crear etiquetas y características\n",
        "X = np.array([[i] for i in range(len(results_user))])  # Posición en la lista\n",
        "y = np.array(results_user)  # Resultados históricos\n",
        "\n",
        "# Dividir el conjunto de datos en entrenamiento y prueba\n",
        "X_train, X_test, y_train, y_test = train_test_split(X, y, test_size=0.2, random_state=42)\n",
        "\n",
        "# Escalar los datos\n",
        "scaler = StandardScaler()\n",
        "X_train_scaled = scaler.fit_transform(X_train)\n",
        "X_test_scaled = scaler.transform(X_test)\n",
        "\n",
        "# Crear el modelo de regresión logística\n",
        "model = LogisticRegression(max_iter=200)  # Aumentar el número de iteraciones\n",
        "\n",
        "# Entrenar el modelo\n",
        "model.fit(X_train_scaled, y_train)\n",
        "\n",
        "# Hacer predicciones\n",
        "predicted_numbers = model.predict(X_test_scaled)\n",
        "\n",
        "# Mostrar los resultados\n",
        "print(\"Predicciones de números:\", predicted_numbers)\n",
        "\n",
        "# Para una predicción nueva\n",
        "new_data = np.array([[len(results_user)]])  # Simula una nueva posición\n",
        "new_data_scaled = scaler.transform(new_data)  # Escalar nueva entrada\n",
        "predicted_new_number = model.predict(new_data_scaled)\n",
        "\n",
        "print(\"Número predicho para nueva entrada:\", predicted_new_number)\n"
      ],
      "metadata": {
        "colab": {
          "base_uri": "https://localhost:8080/"
        },
        "id": "wmot89ofspgw",
        "outputId": "5bb43a39-26ab-4c35-9ea0-fb8738b26e7e"
      },
      "execution_count": 4,
      "outputs": [
        {
          "output_type": "stream",
          "name": "stdout",
          "text": [
            "Predicciones de números: [4310 8393 4310 3012 5142 3070 4310]\n",
            "Número predicho para nueva entrada: [4310]\n"
          ]
        }
      ]
    }
  ]
}